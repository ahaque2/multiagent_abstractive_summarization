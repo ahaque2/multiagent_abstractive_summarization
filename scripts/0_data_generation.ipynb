{
 "cells": [
  {
   "cell_type": "markdown",
   "id": "3d7a6bd4-80b6-48e7-acdb-46ff761c21c7",
   "metadata": {
    "tags": []
   },
   "source": [
    "### This code takes input from the TripAdvisor reviews data and generates reviews using ChatGPT"
   ]
  },
  {
   "cell_type": "code",
   "execution_count": 1,
   "id": "fdb9bbb4-67fe-4447-b374-32df3d366ba0",
   "metadata": {
    "tags": []
   },
   "outputs": [],
   "source": [
    "import pandas as pd\n",
    "import sys\n",
    "import json\n",
    "\n",
    "pd.set_option('display.max_colwidth', None)"
   ]
  },
  {
   "cell_type": "code",
   "execution_count": 2,
   "id": "edb2f40f-3bdb-4230-ac78-a13ae1530214",
   "metadata": {
    "tags": []
   },
   "outputs": [],
   "source": [
    "import json\n",
    "\n",
    "def flatten_json(nested_json):\n",
    "    flattened_json = {}\n",
    "\n",
    "    def flatten(x, name=''):\n",
    "        if type(x) is dict:\n",
    "            for a in x:\n",
    "                flatten(x[a], name + a + '_')\n",
    "        else:\n",
    "            flattened_json[name[:-1]] = x\n",
    "\n",
    "    flatten(nested_json)\n",
    "    return flattened_json\n",
    "\n",
    "def get_data(file_path):\n",
    "    \n",
    "    f = open(file_path)\n",
    "    data = json.load(f)\n",
    "    f.close()\n",
    "    \n",
    "    data_ = []\n",
    "    for x in data['Reviews']:\n",
    "        data_.append(flatten_json(x))\n",
    "        \n",
    "    return data_"
   ]
  },
  {
   "cell_type": "code",
   "execution_count": 3,
   "id": "baaba48c-3210-4b1a-a97c-021d91e75c05",
   "metadata": {
    "tags": []
   },
   "outputs": [],
   "source": [
    "def get_casted_data(df):\n",
    "\n",
    "    df['Ratings_Cleanliness'] = df['Ratings_Cleanliness'].astype('Int64')\n",
    "    df['Ratings_Service'] = df['Ratings_Service'].astype('Int64')\n",
    "    df['Ratings_Overall'] = df['Ratings_Overall'].astype(float).astype('Int64')\n",
    "    df['Ratings_Value'] = df['Ratings_Value'].astype('Int64')\n",
    "    df['Ratings_Sleep Quality'] = df['Ratings_Sleep Quality'].astype('Int64')\n",
    "    df['Ratings_Rooms'] = df['Ratings_Rooms'].astype('Int64')\n",
    "    df['Ratings_Business service (e.g., internet access)'] = df['Ratings_Business service (e.g., internet access)'].astype('Int64')\n",
    "    df['Ratings_Location'] = df['Ratings_Location'].astype('Int64')\n",
    "    df['Ratings_Check in / front desk'] = df['Ratings_Check in / front desk'].astype('Int64')\n",
    "    \n",
    "    return df"
   ]
  },
  {
   "cell_type": "code",
   "execution_count": 4,
   "id": "e00afe66-8f4e-48c3-b8b4-6920b5f32b74",
   "metadata": {
    "tags": []
   },
   "outputs": [],
   "source": [
    "def flag_extreme_reviews(df, attr):\n",
    "    \n",
    "    ## This method identifies reviews that potentially mention an aspect. \n",
    "    ## We use aspect ratings to determine this. \n",
    "    ## If the aspect rating for some aspect is higher (or lower) than the overall rating by the same guest, it is likely that the guest mentions that aspect in the review. \n",
    "    ## We use this as hueristic to identify reviews that can be used as seed data to artificially generate reviews using ChatGPT \n",
    "\n",
    "    index_pos = df[(((df['Ratings_' + attr] - df['Ratings_Overall']) > 1))].index\n",
    "    index_neg = df[(((df['Ratings_' + attr] - df['Ratings_Overall']) < -1))].index\n",
    "    df[attr] = [0] * df.shape[0]\n",
    "    df.loc[index_pos, attr] = 1\n",
    "    df.loc[index_neg, attr] = -1\n",
    "    \n",
    "    return df\n",
    "\n",
    "def get_review_ratings(df):\n",
    "\n",
    "    df = flag_extreme_reviews(df, 'Service')\n",
    "    df = flag_extreme_reviews(df, 'Cleanliness')\n",
    "    df = flag_extreme_reviews(df, 'Value')\n",
    "    df = flag_extreme_reviews(df, 'Sleep Quality')\n",
    "    df = flag_extreme_reviews(df, 'Rooms')\n",
    "    df = flag_extreme_reviews(df, 'Business service (e.g., internet access)')\n",
    "    df = flag_extreme_reviews(df, 'Check in / front desk')\n",
    "    \n",
    "    return df"
   ]
  },
  {
   "cell_type": "code",
   "execution_count": null,
   "id": "3d5b3445-bd00-47ad-9da6-9a0bd0e77286",
   "metadata": {
    "tags": []
   },
   "outputs": [],
   "source": []
  },
  {
   "cell_type": "code",
   "execution_count": 5,
   "id": "7770f4b1-f621-4412-9786-4994e1aa56c6",
   "metadata": {
    "tags": []
   },
   "outputs": [],
   "source": [
    "# df[['Service', 'Cleanliness', 'Value', 'Rooms']].value_counts()"
   ]
  },
  {
   "cell_type": "code",
   "execution_count": 6,
   "id": "a0e5f71b-d744-495c-b755-f78c8777bae0",
   "metadata": {
    "tags": []
   },
   "outputs": [],
   "source": [
    "import os\n",
    "from openai import OpenAI\n",
    "\n",
    "\n",
    "os.environ[\"LAS_API_TOKEN\"] = \"a4adfef6de531c1c258c9eda6f9be5c7a5701e365c32babe72273f63214811df\"\n",
    "\n",
    "client = OpenAI(\n",
    "    # This is the default and can be omitted\n",
    "    api_key=os.environ.get(\"LAS_API_TOKEN\"),\n",
    ")"
   ]
  },
  {
   "cell_type": "code",
   "execution_count": 7,
   "id": "59f5e657-6178-4e12-9f9f-26eacdc6d740",
   "metadata": {},
   "outputs": [],
   "source": [
    "import os\n",
    "from openai import OpenAI\n",
    "\n",
    "def get_chatpgt_summary(prompt, review):\n",
    "\n",
    "    prompt = prompt.replace('{reviews}', review)\n",
    "    chat_completion = client.chat.completions.create(\n",
    "        messages=[\n",
    "            {\n",
    "                \"role\": \"user\",\n",
    "                \"content\": prompt\n",
    "            }\n",
    "        ],\n",
    "        model=\"gpt-4o\",\n",
    "    )\n",
    "    return chat_completion.choices[0].message.content\n",
    "\n",
    "def get_reviews(df, attr, senti):\n",
    "    \n",
    "    reviews = \" \"\n",
    "    rev = df[(df[attr] == senti)].Content\n",
    "    for i, x in enumerate(rev):\n",
    "        # print('review ' + str(i) + \": \", x)\n",
    "        reviews = reviews + 'review ' + str(i+1) + \": \" + x + \"\\n=======\\n\"\n",
    "\n",
    "    return reviews"
   ]
  },
  {
   "cell_type": "code",
   "execution_count": 8,
   "id": "57d16e25-76fe-4365-968f-b627f3d7ffde",
   "metadata": {
    "tags": []
   },
   "outputs": [],
   "source": [
    "# reviews = get_reviews(df, 'Service', 'Rooms', -1)\n",
    "# print(reviews)"
   ]
  },
  {
   "cell_type": "code",
   "execution_count": 9,
   "id": "70445f02-acf0-41ae-97f5-398f5ab7e942",
   "metadata": {
    "tags": []
   },
   "outputs": [],
   "source": [
    "def generate_reviews(df, prompt, senti, attr, attr_sub):\n",
    "    \n",
    "    # attr_pos = 'Service'\n",
    "    # attr_pos_sub = 'Cleanliness'\n",
    "\n",
    "    # def generate_pos_reviews(df, attr, prompt):\n",
    "\n",
    "    if(senti == 'positive'):\n",
    "        review = get_reviews(df, attr, 1)\n",
    "        review_sub = get_reviews(df, attr_sub, 1)\n",
    "\n",
    "    elif(senti == 'negative'):\n",
    "        review = get_reviews(df, attr, -1)\n",
    "        review_sub = get_reviews(df, attr_sub, -1)\n",
    "    \n",
    "    rev = senti.title() + ' Reviews for ' + attr + '\\n\\n' + review + '\\n\\n+++++++\\n\\n' + senti.title() + ' Reviews for ' + attr_sub + '\\n\\n' + review_sub\n",
    "    \n",
    "    prompt = prompt.replace('{topic_1}', attr)\n",
    "    prompt = prompt.replace('{topic_2}', attr_sub)\n",
    "    prompt = prompt.replace('{pos_neg}', senti)\n",
    "\n",
    "    gen_pos_review = get_chatpgt_summary(prompt, rev)  \n",
    "    \n",
    "    return gen_pos_review"
   ]
  },
  {
   "cell_type": "code",
   "execution_count": 10,
   "id": "67e96af3-8332-493c-8219-33712a2051eb",
   "metadata": {
    "tags": []
   },
   "outputs": [],
   "source": [
    "rev_neg, rev_pos, attr_neg, attr_pos, rev_cls = [], [], [], [], []"
   ]
  },
  {
   "cell_type": "code",
   "execution_count": 11,
   "id": "6b20baab-879b-49f0-b781-4e12cdd94f57",
   "metadata": {
    "tags": []
   },
   "outputs": [
    {
     "data": {
      "text/plain": [
       "(652, 22)"
      ]
     },
     "execution_count": 11,
     "metadata": {},
     "output_type": "execute_result"
    }
   ],
   "source": [
    "### Download the Tripadvisor dataset (in json format not the csv)\n",
    "### And unzip it in the data folder\n",
    "### Each Json file contains reviews only from one hotel\n",
    "\n",
    "cls_id = '115484'    ### Provide the json file (id) which you want to use to generate the reviews\n",
    "df = pd.DataFrame(get_data('../data/json/' + cls_id +'.json'))\n",
    "df = get_casted_data(df)\n",
    "df = get_review_ratings(df)\n",
    "df.shape"
   ]
  },
  {
   "cell_type": "code",
   "execution_count": 12,
   "id": "b0946cde-68e6-49d1-8e3c-f72cc625d176",
   "metadata": {
    "tags": []
   },
   "outputs": [],
   "source": [
    "attr = ['Service', 'Cleanliness', 'Value', 'Sleep Quality', 'Rooms', 'Business service (e.g., internet access)', 'Check in / front desk']"
   ]
  },
  {
   "cell_type": "code",
   "execution_count": null,
   "id": "1644bbf6-0283-4463-8091-02488e4541bb",
   "metadata": {
    "tags": []
   },
   "outputs": [],
   "source": [
    "prompt = open('../prompts/generate_reviews.txt').read()\n",
    "\n",
    "### Specify the aspects to focus on in the new generated review. \n",
    "### The possible aspects are given above in the attr array\n",
    "### The prompt takes two aspects and generates a positive/negative review for those aspects\n",
    "\n",
    "i_1, i_2 = 0, 4\n",
    "gen_rev_pos = generate_reviews(df, prompt, 'positive', attr[i_1], attr[i_2])"
   ]
  },
  {
   "cell_type": "code",
   "execution_count": null,
   "id": "f11d2077-0f30-498d-8b69-2bed1100b0e1",
   "metadata": {
    "tags": []
   },
   "outputs": [],
   "source": [
    "print(gen_rev_pos)"
   ]
  },
  {
   "cell_type": "code",
   "execution_count": null,
   "id": "7f0c822d-d0e5-4125-8957-5cc1e8bfba43",
   "metadata": {
    "tags": []
   },
   "outputs": [],
   "source": [
    "prompt = open('../prompts/generate_reviews.txt').read()\n",
    "j_1, j_2 = 1, 4\n",
    "gen_rev_neg = generate_reviews(df, prompt, 'negative', attr[j_1], attr[j_2])"
   ]
  },
  {
   "cell_type": "code",
   "execution_count": null,
   "id": "0fb36ee5-431d-4a26-b2ec-247bdf30571c",
   "metadata": {
    "tags": []
   },
   "outputs": [],
   "source": [
    "print(gen_rev_neg)"
   ]
  },
  {
   "cell_type": "code",
   "execution_count": null,
   "id": "452fb26b-2d60-4e52-b12d-63290425e96b",
   "metadata": {
    "tags": []
   },
   "outputs": [],
   "source": [
    "rev_neg.append(gen_rev_neg)\n",
    "rev_pos.append(gen_rev_pos)\n",
    "attr_neg.append([attr[j_1], attr[j_2]])\n",
    "attr_pos.append([attr[i_1], attr[i_2]])\n",
    "rev_cls.append(cls_id)"
   ]
  },
  {
   "cell_type": "code",
   "execution_count": null,
   "id": "5829b4fe-701f-4cd1-b902-7d78b9ff2c38",
   "metadata": {
    "tags": []
   },
   "outputs": [],
   "source": [
    "df_ = pd.DataFrame()"
   ]
  },
  {
   "cell_type": "code",
   "execution_count": null,
   "id": "458cb914-b692-4b2d-95ee-bb9d692aa1b2",
   "metadata": {
    "tags": []
   },
   "outputs": [],
   "source": [
    "df_['rev_neg'] = rev_neg\n",
    "df_['rev_pos'] = rev_pos\n",
    "df_['attr_neg'] = attr_neg\n",
    "df_['attr_pos'] = attr_pos\n",
    "df_['cls'] = rev_cls"
   ]
  },
  {
   "cell_type": "code",
   "execution_count": null,
   "id": "401ad77a-2fb0-43ac-b7f4-d3d8debaf739",
   "metadata": {},
   "outputs": [],
   "source": []
  },
  {
   "cell_type": "code",
   "execution_count": null,
   "id": "4f9e3fd9-88a2-4fbb-a161-0b250f0f8cad",
   "metadata": {
    "tags": []
   },
   "outputs": [],
   "source": [
    "df_.to_csv('../data/conflicting_reviews_dataset.csv')"
   ]
  },
  {
   "cell_type": "code",
   "execution_count": null,
   "id": "55d4ed89-0fad-4d07-9901-f302f3f578f5",
   "metadata": {},
   "outputs": [],
   "source": []
  }
 ],
 "metadata": {
  "kernelspec": {
   "display_name": "py3_scads_venv",
   "language": "python",
   "name": "py3_scads_venv"
  },
  "language_info": {
   "codemirror_mode": {
    "name": "ipython",
    "version": 3
   },
   "file_extension": ".py",
   "mimetype": "text/x-python",
   "name": "python",
   "nbconvert_exporter": "python",
   "pygments_lexer": "ipython3",
   "version": "3.10.12"
  }
 },
 "nbformat": 4,
 "nbformat_minor": 5
}
