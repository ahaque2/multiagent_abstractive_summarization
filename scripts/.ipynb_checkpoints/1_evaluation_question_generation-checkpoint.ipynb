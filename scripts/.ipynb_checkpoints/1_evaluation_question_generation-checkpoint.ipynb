{
 "cells": [
  {
   "cell_type": "markdown",
   "id": "af2e375e-107b-431e-b338-828cbedd076d",
   "metadata": {
    "tags": []
   },
   "source": [
    "### This script generates questions to evaluate conflicting news\n",
    "##### The questions bring out the differences in the conflicting news\n",
    "##### We use ChatGPT to identify these questions and evaluate the quality of the summary by answering these questions.\n",
    "##### The quality of the summary is evaluated based on the cosine similarity difference between answers achieved by just reading the summary vs. reading individual news articles"
   ]
  },
  {
   "cell_type": "code",
   "execution_count": 1,
   "id": "0c4fb76e-5b9f-40f8-8731-94e381f40cb4",
   "metadata": {
    "tags": []
   },
   "outputs": [
    {
     "name": "stderr",
     "output_type": "stream",
     "text": [
      "/home/ahaque2/venv/py3_scads_venv/lib/python3.10/site-packages/tqdm/auto.py:21: TqdmWarning: IProgress not found. Please update jupyter and ipywidgets. See https://ipywidgets.readthedocs.io/en/stable/user_install.html\n",
      "  from .autonotebook import tqdm as notebook_tqdm\n"
     ]
    }
   ],
   "source": [
    "import pandas as pd\n",
    "import statistics\n",
    "\n",
    "from bert_score import BERTScorer\n",
    "from rouge_score import rouge_scorer\n",
    "import ast\n",
    "from nltk.tokenize import sent_tokenize\n",
    "\n",
    "import sys"
   ]
  },
  {
   "cell_type": "code",
   "execution_count": 2,
   "id": "020f23d1-1eac-4dfc-aebd-f067f5dac79a",
   "metadata": {
    "tags": []
   },
   "outputs": [],
   "source": [
    "import os\n",
    "from openai import OpenAI\n",
    "\n",
    "import os\n",
    "from openai import OpenAI\n",
    "\n",
    "def get_chatpgt_scores(prompt):\n",
    "\n",
    "    chat_completion = client.chat.completions.create(\n",
    "        messages=[\n",
    "            {\n",
    "                \"role\": \"user\",\n",
    "                \"content\": prompt\n",
    "            }\n",
    "        ],\n",
    "        model=\"gpt-4o\",\n",
    "    )\n",
    "    return chat_completion.choices[0].message.content\n",
    "\n",
    "os.environ[\"LAS_API_TOKEN\"] = \"a4adfef6de531c1c258c9eda6f9be5c7a5701e365c32babe72273f63214811df\"\n",
    "\n",
    "client = OpenAI(\n",
    "    # This is the default and can be omitted\n",
    "    api_key=os.environ.get(\"LAS_API_TOKEN\"),\n",
    ")"
   ]
  },
  {
   "cell_type": "code",
   "execution_count": 3,
   "id": "d72a7e86-3a63-4a4f-a991-af3a47898100",
   "metadata": {
    "tags": []
   },
   "outputs": [],
   "source": [
    "df_news = pd.read_csv('../data/conflicting_news_dataset.csv')\n",
    "document = 'News'"
   ]
  },
  {
   "cell_type": "code",
   "execution_count": 4,
   "id": "94900464-5deb-4e12-936f-edf5765f4569",
   "metadata": {
    "tags": []
   },
   "outputs": [],
   "source": [
    "conflict_q_prompts = open('../prompts/identify_conflict_questions.txt').read()"
   ]
  },
  {
   "cell_type": "code",
   "execution_count": 6,
   "id": "c75fb7d9-0496-4cd0-b1ed-49a046987bb5",
   "metadata": {
    "tags": []
   },
   "outputs": [],
   "source": [
    "questions = []\n",
    "\n",
    "## We iterate over all news clusters (each cluster contains a news from a Left and a Right perspective). \n",
    "## Change the range if you wish to run it for a different set of news clusters \n",
    "for i in range(1,16):\n",
    "\n",
    "    news = df_news[df_news.cluster_id == i]\n",
    "    docs = [news[news.side == 'L'].text.values[0], news[news.side == 'R'].text.values[0]]\n",
    "    \n",
    "    conflict_q_prompts = conflict_q_prompts + \"\\n\" + document + \" source 1: \" + docs[0] + \"\\n\\n=======\\n\\n\" + document + \" source 2: \" + docs[1]\n",
    "    Q = get_chatpgt_scores(conflict_q_prompts)\n",
    "    \n",
    "    questions.append(Q)"
   ]
  },
  {
   "cell_type": "code",
   "execution_count": null,
   "id": "37c063d1-15b1-49ee-a69a-b4eaba739664",
   "metadata": {
    "tags": []
   },
   "outputs": [],
   "source": [
    "df_questions = pd.DataFrame()\n",
    "df_questions['cluster'] = list(range(1,16))\n",
    "df_questions['questions'] = questions"
   ]
  },
  {
   "cell_type": "code",
   "execution_count": null,
   "id": "614bdec8-5096-4014-b0a7-9d2ddaeb5825",
   "metadata": {},
   "outputs": [],
   "source": [
    "df_questions.to_csv('../data/news_questions.csv')"
   ]
  },
  {
   "cell_type": "code",
   "execution_count": null,
   "id": "e4fdf40b-22e3-492e-9545-326078542358",
   "metadata": {
    "tags": []
   },
   "outputs": [],
   "source": []
  },
  {
   "cell_type": "code",
   "execution_count": null,
   "id": "32a8112d-5579-42bd-9d11-f2c3d26be35c",
   "metadata": {},
   "outputs": [],
   "source": []
  }
 ],
 "metadata": {
  "kernelspec": {
   "display_name": "py3_scads_venv",
   "language": "python",
   "name": "py3_scads_venv"
  },
  "language_info": {
   "codemirror_mode": {
    "name": "ipython",
    "version": 3
   },
   "file_extension": ".py",
   "mimetype": "text/x-python",
   "name": "python",
   "nbconvert_exporter": "python",
   "pygments_lexer": "ipython3",
   "version": "3.10.12"
  }
 },
 "nbformat": 4,
 "nbformat_minor": 5
}
